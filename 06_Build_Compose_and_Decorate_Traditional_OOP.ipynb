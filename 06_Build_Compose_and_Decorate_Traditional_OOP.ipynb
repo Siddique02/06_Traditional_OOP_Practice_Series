{
  "cells": [
    {
      "cell_type": "markdown",
      "metadata": {
        "id": "view-in-github",
        "colab_type": "text"
      },
      "source": [
        "<a href=\"https://colab.research.google.com/github/Siddique02/06_Traditional_OOP_Practice_Series/blob/main/06_Build_Compose_and_Decorate_Traditional_OOP.ipynb\" target=\"_parent\"><img src=\"https://colab.research.google.com/assets/colab-badge.svg\" alt=\"Open In Colab\"/></a>"
      ]
    },
    {
      "cell_type": "code",
      "execution_count": null,
      "metadata": {
        "id": "SI2SDMXMrpAI"
      },
      "outputs": [],
      "source": [
        "#1. Using self\n",
        "class Student:\n",
        "  def __init__(self, name, marks):\n",
        "    self.name = name\n",
        "    self.marks = marks\n",
        "\n",
        "  def display(self):\n",
        "    print(f\"Student name: {self.name}\\nMarks: {self.marks}\")\n",
        "\n",
        "student1 = Student(\"John\", 90)\n",
        "student1.display()"
      ]
    },
    {
      "cell_type": "code",
      "execution_count": null,
      "metadata": {
        "id": "6vl1Cpl2tS1L"
      },
      "outputs": [],
      "source": [
        "#2 Using cls\n",
        "class Counter:\n",
        "  count = 0\n",
        "\n",
        "  def __init__(self):\n",
        "    Counter.count += 1\n",
        "\n",
        "  @classmethod\n",
        "  def get_count(cls):\n",
        "    return cls.count\n",
        "\n",
        "counter1 = Counter()\n",
        "counter2 = Counter()\n",
        "counter3 = Counter()\n",
        "\n",
        "print(Counter.get_count())"
      ]
    },
    {
      "cell_type": "code",
      "execution_count": null,
      "metadata": {
        "id": "V8ytw_5Ouizj"
      },
      "outputs": [],
      "source": [
        "#3. Public Variables and Methods\n",
        "class Car:\n",
        "  def __init__(self, brand):\n",
        "    self.brand = brand\n",
        "\n",
        "  def start(self):\n",
        "    return f\"{self.brand} started...\"\n",
        "\n",
        "my_car = Car(\"Honda\")\n",
        "print(my_car.brand)\n",
        "print(my_car.start())"
      ]
    },
    {
      "cell_type": "code",
      "execution_count": null,
      "metadata": {
        "id": "bYYrC5Klv4ql"
      },
      "outputs": [],
      "source": [
        "#4. Class Variables and Class Methods\n",
        "class Bank:\n",
        "  bank_name = \"UBL\"\n",
        "\n",
        "  @classmethod\n",
        "  def change_bank_name(cls, name):\n",
        "    cls.bank_name = name\n",
        "    return cls.bank_name\n",
        "\n",
        "my_bank = Bank.change_bank_name(\"Meezan\")\n",
        "print(Bank.bank_name)"
      ]
    },
    {
      "cell_type": "code",
      "execution_count": null,
      "metadata": {
        "id": "7tC-AJZCx_jy"
      },
      "outputs": [],
      "source": [
        "#5. Static Variables and Static Methods\n",
        "class MathUtils:\n",
        "  @staticmethod\n",
        "  def add(a: int, b: int) -> int:\n",
        "    return a + b\n",
        "\n",
        "addition = MathUtils.add(5, 5)\n",
        "print(addition)"
      ]
    },
    {
      "cell_type": "code",
      "execution_count": null,
      "metadata": {
        "id": "1o98beN5zIqL"
      },
      "outputs": [],
      "source": [
        "#6. Constructors and Destructors\n",
        "class Logger:\n",
        "  def __init__(self):\n",
        "    print(\"Object is created!\")\n",
        "\n",
        "  def __del__(self):\n",
        "    print(\"Object is destroyed!\")\n",
        "\n",
        "my_log = Logger()\n",
        "del my_log"
      ]
    },
    {
      "cell_type": "code",
      "execution_count": null,
      "metadata": {
        "id": "rbo0KboR1Q9n"
      },
      "outputs": [],
      "source": [
        "#7. Access Modifiers: Public, Private, and Protected\n",
        "class Employee:\n",
        "  def __init__(self, name, salary, ssn):\n",
        "    self.name = name\n",
        "    self._salary = salary\n",
        "    self.__ssn = ssn\n",
        "\n",
        "my_object = Employee(\"Ali\", \"1000\", \"1234\")\n",
        "print(my_object.name)      #Can be accessible anywhere\n",
        "print(my_object._salary)   #Also accessible everywhere, just a guideline to other developers\n",
        "print(my_object.__ssn)     #Not accessible outside the class"
      ]
    },
    {
      "cell_type": "code",
      "execution_count": null,
      "metadata": {
        "id": "vXYCwxNc6fN8"
      },
      "outputs": [],
      "source": [
        "#8. The super() Function\n",
        "class Person:\n",
        "  def __init__(self, name):\n",
        "    self.name = name\n",
        "\n",
        "class Teacher(Person):\n",
        "  def __init__(self, name, subject):\n",
        "    self.subject = subject\n",
        "    super().__init__(name)\n",
        "\n",
        "  def info(self):\n",
        "    return f\"Teacher name: {self.name}\\nSubject: {self.subject}\"\n",
        "\n",
        "my_teacher = Teacher(\"Anas\", \"English\")\n",
        "print(my_teacher.info())"
      ]
    },
    {
      "cell_type": "code",
      "execution_count": null,
      "metadata": {
        "id": "AwIzHnKtD4GL"
      },
      "outputs": [],
      "source": [
        "#9. Abstract Classes and Methods\n",
        "from abc import ABC, abstractmethod\n",
        "\n",
        "class Shape(ABC):\n",
        "  @abstractmethod\n",
        "  def area(self):\n",
        "    pass\n",
        "\n",
        "class Rectangle(Shape):\n",
        "  def __init__(self, height, width):\n",
        "    self.height = height\n",
        "    self.width = width\n",
        "\n",
        "  def area(self):\n",
        "    return self.height * self.width\n",
        "\n",
        "\n",
        "my_rectangle = Rectangle(5, 5)\n",
        "print(f\"Area of rectangle: {my_rectangle.area()}\")"
      ]
    },
    {
      "cell_type": "code",
      "execution_count": null,
      "metadata": {
        "id": "KZAh_I05x2Iz"
      },
      "outputs": [],
      "source": [
        "#10. Instance Methods\n",
        "class Dog:\n",
        "  def __init__(self, name, breed):\n",
        "    self.name = name\n",
        "    self.breed = breed\n",
        "\n",
        "  def bark(self):\n",
        "    return f\"{self.name} is barking...\"\n",
        "\n",
        "my_dog = Dog(\"Tommy\", \"German Shephard\")\n",
        "print(my_dog.bark())"
      ]
    },
    {
      "cell_type": "code",
      "execution_count": null,
      "metadata": {
        "id": "n40sCcFYzLG5"
      },
      "outputs": [],
      "source": [
        "#11. Class Methods\n",
        "class Book:\n",
        "  total_books = 0\n",
        "\n",
        "  def __init__(self, name):\n",
        "    self.name = name\n",
        "    Book.increment_book_count()\n",
        "\n",
        "  @classmethod\n",
        "  def increment_book_count(cls):\n",
        "    cls.total_books += 1\n",
        "    return cls.total_books\n",
        "\n",
        "new_book = Book(\"The Great Gatsby\")\n",
        "another_book = Book(\"Pride and Prejudice\")\n",
        "\n",
        "print(\"Total number of books: \", Book.total_books)"
      ]
    },
    {
      "cell_type": "code",
      "execution_count": null,
      "metadata": {
        "id": "kJ1fS5-b7d2K"
      },
      "outputs": [],
      "source": [
        "#12. Static Methods\n",
        "class TemperatureConverter:\n",
        "  @staticmethod\n",
        "  def celsius_to_fahrenheit(c: float) -> float:\n",
        "    return (c * 9/5) + 32\n",
        "\n",
        "print(TemperatureConverter.celsius_to_fahrenheit(100))"
      ]
    },
    {
      "cell_type": "code",
      "execution_count": null,
      "metadata": {
        "id": "G1OrKSSJ773D"
      },
      "outputs": [],
      "source": [
        "#13. Composition\n",
        "class Engine:\n",
        "  def start(self):\n",
        "    return \"Engine starts...\"\n",
        "\n",
        "class Car:\n",
        "  def __init__(self):\n",
        "    self.engine = Engine()\n",
        "\n",
        "  def accessing_engine_method(self):\n",
        "    return self.engine.start()\n",
        "\n",
        "my_car = Car()\n",
        "print(my_car.accessing_engine_method())"
      ]
    },
    {
      "cell_type": "code",
      "execution_count": null,
      "metadata": {
        "id": "6UUEi53hISNl"
      },
      "outputs": [],
      "source": [
        "#14. Aggregation\n",
        "class Employee:\n",
        "  def depart(self):\n",
        "    return \"I am Employee and I am independent\"\n",
        "\n",
        "class Department:\n",
        "  def __init__(self, employee: Employee):\n",
        "    self.employee = employee\n",
        "\n",
        "  def reference(self):\n",
        "    return self.employee.depart()\n",
        "\n",
        "my_employee = Employee()\n",
        "\n",
        "my_department = Department(my_employee)  #Department object store a reference to an Employee object\n",
        "del my_department                        # Deletes the reference\n",
        "\n",
        "print(my_employee.depart())   # But Employee still exists because its independent"
      ]
    },
    {
      "cell_type": "code",
      "source": [
        "#15. Method Resolution Order (MRO) and Diamond Inheritance\n",
        "class A:\n",
        "  def show(self):\n",
        "    return \"I am show from class A\"\n",
        "\n",
        "class B(A):\n",
        "  def show(self):\n",
        "    return \"I am show from class B\"\n",
        "\n",
        "class C(A):\n",
        "  def show(self):\n",
        "    return \"I am show from class C\"\n",
        "\n",
        "class D(B, C):\n",
        "  pass\n",
        "\n",
        "d = D()\n",
        "d.show()\n",
        "\n",
        "print(\"Method Resolution Order:\", [cls.__name__ for cls in D.__mro__])"
      ],
      "metadata": {
        "id": "AyrLbiO8agx2"
      },
      "execution_count": null,
      "outputs": []
    },
    {
      "cell_type": "code",
      "source": [
        "#16. Function Decorators\n",
        "def log_function_call(func):\n",
        "  def wrapper():\n",
        "    print(\"Funtion is being called!\")\n",
        "    func()\n",
        "    print(\"Function was called\")\n",
        "  return wrapper\n",
        "\n",
        "@log_function_call\n",
        "def say_hello():\n",
        "  print(\"Hello\")\n",
        "\n",
        "say_hello()"
      ],
      "metadata": {
        "id": "4U5dCCGbdBfh"
      },
      "execution_count": null,
      "outputs": []
    },
    {
      "cell_type": "code",
      "source": [
        "#17. Class Decorators\n",
        "def add_greeting(cls):\n",
        "  def wrapper():\n",
        "    print(\"Hello from Decorator!\")\n",
        "    return cls()\n",
        "  return wrapper\n",
        "\n",
        "@add_greeting\n",
        "class Person:\n",
        "  def info(self):\n",
        "    return \"I am a method of class Person\"\n",
        "\n",
        "my_person = Person()\n",
        "print(my_person.info())"
      ],
      "metadata": {
        "id": "VF-Vus0fklfs"
      },
      "execution_count": null,
      "outputs": []
    },
    {
      "cell_type": "code",
      "source": [
        "#18. Property Decorators: @property, @setter, and @deleter\n",
        "class Product:\n",
        "  def __init__(self, price):\n",
        "    self._price = price\n",
        "\n",
        "  @property\n",
        "  def price(self):\n",
        "    return self._price\n",
        "\n",
        "  @price.setter\n",
        "  def price(self, value):\n",
        "    self._price = value\n",
        "\n",
        "  @price.deleter\n",
        "  def price(self):\n",
        "    del self._price\n",
        "\n",
        "my_product = Product(500)\n",
        "print(my_product.price)\n",
        "\n",
        "my_product.price = 999\n",
        "print(my_product.price)\n",
        "\n",
        "del my_product.price"
      ],
      "metadata": {
        "id": "gfAZrcx2orvo"
      },
      "execution_count": null,
      "outputs": []
    },
    {
      "cell_type": "code",
      "source": [
        "#19. callable() and __call__()\n",
        "class Multiplier:\n",
        "  def __init__(self, factor):\n",
        "    self.factor = factor\n",
        "\n",
        "  def __call__(self, input):\n",
        "    return self.factor * input\n",
        "\n",
        "my_obj = Multiplier(10)\n",
        "print(callable(my_obj))\n",
        "my_obj(10)"
      ],
      "metadata": {
        "id": "yKi7dqPywhsa"
      },
      "execution_count": null,
      "outputs": []
    },
    {
      "cell_type": "code",
      "source": [
        "#20. Creating a Custom Exception\n",
        "class InvalidAgeError(Exception):\n",
        "  pass\n",
        "\n",
        "def check_age(age):\n",
        "  if age < 18:\n",
        "    raise InvalidAgeError(\"You must be 18 or older!\")\n",
        "  return \"Valid age!\"\n",
        "\n",
        "try:\n",
        "  age = int(input(\"Enter your age: \"))\n",
        "  result = check_age(age)\n",
        "  print(result)\n",
        "except InvalidAgeError as e:\n",
        "  print(e)"
      ],
      "metadata": {
        "id": "ekn0zHNv1y3m"
      },
      "execution_count": null,
      "outputs": []
    },
    {
      "cell_type": "code",
      "source": [
        "#21. Make a Custom Class Iterable\n",
        "class Countdown:\n",
        "  def __init__(self, num):\n",
        "    self.num = num\n",
        "\n",
        "  def __iter__(self):\n",
        "    return self\n",
        "\n",
        "  def __next__(self):\n",
        "    if self.num < 0:\n",
        "      raise StopIteration\n",
        "    else:\n",
        "      value = self.num\n",
        "      self.num -= 1\n",
        "      return value\n",
        "\n",
        "for my_object in Countdown(5):\n",
        "  print(my_object)"
      ],
      "metadata": {
        "id": "icd4zJeS7eOQ",
        "colab": {
          "base_uri": "https://localhost:8080/"
        },
        "outputId": "758ec467-0fcb-4ad8-83c0-b54da5d927f4"
      },
      "execution_count": 7,
      "outputs": [
        {
          "output_type": "stream",
          "name": "stdout",
          "text": [
            "5\n",
            "4\n",
            "3\n",
            "2\n",
            "1\n",
            "0\n"
          ]
        }
      ]
    }
  ],
  "metadata": {
    "colab": {
      "provenance": [],
      "authorship_tag": "ABX9TyO8pgajfdmFjkLzlU22eBuz",
      "include_colab_link": true
    },
    "kernelspec": {
      "display_name": "Python 3",
      "name": "python3"
    },
    "language_info": {
      "name": "python"
    }
  },
  "nbformat": 4,
  "nbformat_minor": 0
}